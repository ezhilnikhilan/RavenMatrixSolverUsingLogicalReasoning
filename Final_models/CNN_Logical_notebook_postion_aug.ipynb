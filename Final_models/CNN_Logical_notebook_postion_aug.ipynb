{
 "cells": [
  {
   "cell_type": "code",
   "execution_count": 1,
   "id": "cafa9634-e1aa-43c2-a960-7abc2d65e97b",
   "metadata": {},
   "outputs": [],
   "source": [
    "import os\n",
    "import numpy as np\n",
    "import argparse\n",
    "import torch\n",
    "import torch.nn as nn\n",
    "import torch.optim as optim\n",
    "from torch.utils.data import Dataset, DataLoader\n",
    "from torchvision import transforms, utils\n",
    "\n",
    "from utility import dataset, ToTensor\n",
    "from cnn_mlp import CNN_MLP\n",
    "from cnn_lstm import CNN_LSTM\n",
    "from resnet18 import Resnet18_MLP\n",
    "from cnn_logical_v1 import CNN_Logical"
   ]
  },
  {
   "cell_type": "code",
   "execution_count": 2,
   "id": "2668e7a7-6923-4e40-8ba0-cc248efb3162",
   "metadata": {},
   "outputs": [],
   "source": [
    "class args():\n",
    "    model='CNN_Logical'\n",
    "    epochs=300\n",
    "    batch_size=32\n",
    "    seed=12345\n",
    "    dataset = 'iRaven'\n",
    "    device = 0\n",
    "    load_workers = 16\n",
    "    resume = False\n",
    "    path = \"/common/users/pv217/four_config_data_pth/pritish_data\"\n",
    "    save = \"/common/users/pv217/model_checkpoints/full_cnn_lstm\"\n",
    "    img_size = 80\n",
    "    lr = 1e-4\n",
    "    beta1 = 0.9\n",
    "    beta2 = 0.999\n",
    "    epsilon = 1e-8\n",
    "    meta_alpha = 0.0\n",
    "    meta_beta = 0.0\n",
    "    cuda = torch.cuda.is_available()    "
   ]
  },
  {
   "cell_type": "code",
   "execution_count": 3,
   "id": "ab22edf7-5ee6-49dd-98f6-a9381a8f76e9",
   "metadata": {},
   "outputs": [],
   "source": [
    "args.cuda = torch.cuda.is_available()\n",
    "torch.cuda.set_device(args.device)\n",
    "if args.cuda:\n",
    "    torch.cuda.manual_seed(args.seed)"
   ]
  },
  {
   "cell_type": "code",
   "execution_count": 4,
   "id": "efc98847-8512-4949-8c7c-0e953b2c4305",
   "metadata": {},
   "outputs": [],
   "source": [
    "data_path = \"/common/users/pv217/four_config_data_pth/pritish_data\""
   ]
  },
  {
   "cell_type": "code",
   "execution_count": 5,
   "id": "29a2184c-1167-477c-993e-aa67d0925361",
   "metadata": {},
   "outputs": [],
   "source": [
    "train = dataset(data_path, \"train\", args.img_size, transform=transforms.Compose([ToTensor()]),shuffle=True,\n",
    "                rotate=False,vertical_flip=False, vertical_roll = False,\n",
    "                horizontal_flip = False, horizontal_roll= False, max_rotate_angle = 180\n",
    "               )\n",
    "valid = dataset(data_path, \"val\", args.img_size, transform=transforms.Compose([ToTensor()]))\n",
    "test = dataset(data_path, \"test\", args.img_size, transform=transforms.Compose([ToTensor()]))"
   ]
  },
  {
   "cell_type": "code",
   "execution_count": 6,
   "id": "6f82de8f-3484-470d-9078-7e985960b556",
   "metadata": {},
   "outputs": [],
   "source": [
    "trainloader = DataLoader(train, batch_size=args.batch_size, shuffle=True, num_workers=16)\n",
    "validloader = DataLoader(valid, batch_size=args.batch_size, shuffle=False, num_workers=16)\n",
    "testloader = DataLoader(test, batch_size=args.batch_size, shuffle=False, num_workers=16)"
   ]
  },
  {
   "cell_type": "code",
   "execution_count": 7,
   "id": "03f85bd3-36a1-4036-b099-e47add4fb42b",
   "metadata": {},
   "outputs": [
    {
     "data": {
      "text/plain": [
       "torch.Size([9])"
      ]
     },
     "execution_count": 7,
     "metadata": {},
     "output_type": "execute_result"
    }
   ],
   "source": [
    "train.__getitem__(1)[2].shape"
   ]
  },
  {
   "cell_type": "code",
   "execution_count": 8,
   "id": "633bf4f4-3801-4ae7-8a1a-9c170ce8a0e0",
   "metadata": {},
   "outputs": [
    {
     "data": {
      "text/plain": [
       "tensor(7.)"
      ]
     },
     "execution_count": 8,
     "metadata": {},
     "output_type": "execute_result"
    }
   ],
   "source": [
    "train.__getitem__(1)[2].sum()"
   ]
  },
  {
   "cell_type": "code",
   "execution_count": 11,
   "id": "96349c6a-068c-41fb-853e-47b4cdfca395",
   "metadata": {},
   "outputs": [],
   "source": [
    "if args.model == \"CNN_MLP\":\n",
    "    model = CNN_MLP(args)\n",
    "elif args.model == \"CNN_LSTM\":\n",
    "    model = CNN_LSTM(args)\n",
    "elif args.model == \"Resnet18_MLP\":\n",
    "    model = Resnet18_MLP(args)\n",
    "elif args.model == \"CNN_Logical\":\n",
    "    model = CNN_Logical(args)"
   ]
  },
  {
   "cell_type": "code",
   "execution_count": 12,
   "id": "47af98f3-16c1-4fff-99b0-2ea0ce015922",
   "metadata": {},
   "outputs": [],
   "source": [
    "if args.resume:\n",
    "    model.load_model(args.save, 0)\n",
    "    print('Loaded model')\n",
    "if args.cuda:\n",
    "    model = model.cuda()"
   ]
  },
  {
   "cell_type": "code",
   "execution_count": 13,
   "id": "a5252445-b8cd-43a1-8090-86f6dfe77e7d",
   "metadata": {},
   "outputs": [],
   "source": [
    "def train(epoch):\n",
    "    model.train()\n",
    "    train_loss = 0\n",
    "    accuracy = 0\n",
    "\n",
    "    loss_all = 0.0\n",
    "    acc_all = 0.0\n",
    "    counter = 0\n",
    "    for batch_idx, (image, target, meta_target) in enumerate(trainloader):\n",
    "        counter += 1\n",
    "        if args.cuda:\n",
    "            image = image.cuda()\n",
    "            target = target.cuda()\n",
    "            meta_target = meta_target.cuda()\n",
    "#             meta_structure = meta_structure.cuda()\n",
    "#             embedding = embedding.cuda()\n",
    "#             indicator = indicator.cuda()\n",
    "        loss, acc = model.train_(image, target, meta_target)\n",
    "        #print('Train: Epoch:{}, Batch:{}, Loss:{:.6f}, Acc:{:.4f}.'.format(epoch, batch_idx, loss, acc))\n",
    "        loss_all += loss\n",
    "        acc_all += acc\n",
    "    print(epoch)\n",
    "    if counter > 0:\n",
    "        print(\"Avg Training Loss: {:.6f}\".format(loss_all/float(counter)))\n",
    "    return loss_all/float(counter), acc_all/float(counter)\n"
   ]
  },
  {
   "cell_type": "code",
   "execution_count": 14,
   "id": "8dffc722-0e0c-4d50-a15b-a5b163edf7ed",
   "metadata": {},
   "outputs": [],
   "source": [
    "def validate(epoch):\n",
    "    model.eval()\n",
    "    val_loss = 0\n",
    "    accuracy = 0\n",
    "\n",
    "    loss_all = 0.0\n",
    "    acc_all = 0.0\n",
    "    counter = 0\n",
    "    for batch_idx, (image, target, meta_target) in enumerate(validloader):\n",
    "        counter += 1\n",
    "        if args.cuda:\n",
    "            image = image.cuda()\n",
    "            target = target.cuda()\n",
    "            meta_target = meta_target.cuda()\n",
    "#             meta_structure = meta_structure.cuda()\n",
    "#             embedding = embedding.cuda()\n",
    "#             indicator = indicator.cuda()\n",
    "        loss, acc = model.validate_(image, target, meta_target)\n",
    "        # print('Validate: Epoch:{}, Batch:{}, Loss:{:.6f}, Acc:{:.4f}.'.format(epoch, batch_idx, loss, acc)) \n",
    "        loss_all += loss\n",
    "        acc_all += acc\n",
    "    if counter > 0:\n",
    "        print(\"Total Validation Loss: {:.6f}, Acc: {:.4f}\".format(loss_all/float(counter), acc_all/float(counter)))\n",
    "    return loss_all/float(counter), acc_all/float(counter)"
   ]
  },
  {
   "cell_type": "code",
   "execution_count": 15,
   "id": "3f27dde8-6eaa-496d-878f-21caddedfac0",
   "metadata": {},
   "outputs": [],
   "source": [
    "def test(epoch):\n",
    "    model.eval()\n",
    "    accuracy = 0\n",
    "\n",
    "    acc_all = 0.0\n",
    "    counter = 0\n",
    "    for batch_idx, (image, target, meta_target) in enumerate(testloader):\n",
    "        counter += 1\n",
    "        if args.cuda:\n",
    "            image = image.cuda()\n",
    "            target = target.cuda()\n",
    "            meta_target = meta_target.cuda()\n",
    "#             meta_structure = meta_structure.cuda()\n",
    "#             embedding = embedding.cuda()\n",
    "#             indicator = indicator.cuda()\n",
    "        acc = model.test_(image, target, meta_target)\n",
    "        # print('Test: Epoch:{}, Batch:{}, Acc:{:.4f}.'.format(epoch, batch_idx, acc))  \n",
    "        acc_all += acc\n",
    "    if counter > 0:\n",
    "        print(\"Total Testing Acc: {:.4f}\".format(acc_all / float(counter)))\n",
    "    return acc_all/float(counter)"
   ]
  },
  {
   "cell_type": "code",
   "execution_count": 16,
   "id": "7f7fb64f-b256-47e1-ae00-52852d3dd008",
   "metadata": {},
   "outputs": [
    {
     "name": "stdout",
     "output_type": "stream",
     "text": [
      "0\n",
      "Avg Training Loss: 2.622712\n",
      "Total Validation Loss: 2.370894, Acc: 15.2875\n",
      "Total Testing Acc: 14.5125\n",
      "1\n",
      "Avg Training Loss: 2.292941\n",
      "Total Validation Loss: 2.169866, Acc: 15.4625\n",
      "Total Testing Acc: 15.9500\n",
      "2\n",
      "Avg Training Loss: 2.174298\n",
      "Total Validation Loss: 2.120179, Acc: 16.9000\n",
      "Total Testing Acc: 17.3375\n",
      "3\n",
      "Avg Training Loss: 2.110505\n",
      "Total Validation Loss: 2.065987, Acc: 18.2000\n",
      "Total Testing Acc: 17.7375\n",
      "4\n",
      "Avg Training Loss: 2.071210\n",
      "Total Validation Loss: 2.031116, Acc: 19.6500\n",
      "Total Testing Acc: 19.9250\n",
      "5\n",
      "Avg Training Loss: 2.027304\n",
      "Total Validation Loss: 1.985947, Acc: 21.2875\n",
      "Total Testing Acc: 20.2125\n",
      "6\n",
      "Avg Training Loss: 1.992770\n",
      "Total Validation Loss: 1.954807, Acc: 21.5250\n",
      "Total Testing Acc: 21.3875\n",
      "7\n",
      "Avg Training Loss: 1.960204\n",
      "Total Validation Loss: 1.918026, Acc: 22.9500\n",
      "Total Testing Acc: 23.1625\n",
      "8\n",
      "Avg Training Loss: 1.927900\n",
      "Total Validation Loss: 1.905421, Acc: 23.6500\n",
      "Total Testing Acc: 22.7750\n",
      "9\n",
      "Avg Training Loss: 1.902176\n",
      "Total Validation Loss: 1.884477, Acc: 23.7625\n",
      "Total Testing Acc: 23.4500\n",
      "10\n",
      "Avg Training Loss: 1.877054\n",
      "Total Validation Loss: 1.874150, Acc: 24.2875\n",
      "Total Testing Acc: 24.5375\n",
      "11\n",
      "Avg Training Loss: 1.848343\n",
      "Total Validation Loss: 1.842323, Acc: 25.2250\n",
      "Total Testing Acc: 24.9250\n",
      "12\n",
      "Avg Training Loss: 1.821349\n",
      "Total Validation Loss: 1.828625, Acc: 25.6250\n",
      "Total Testing Acc: 25.9625\n",
      "13\n",
      "Avg Training Loss: 1.797564\n",
      "Total Validation Loss: 1.806446, Acc: 26.0375\n",
      "Total Testing Acc: 25.4125\n",
      "14\n",
      "Avg Training Loss: 1.776049\n",
      "Total Validation Loss: 1.806230, Acc: 26.4250\n",
      "Total Testing Acc: 26.1125\n",
      "15\n",
      "Avg Training Loss: 1.752116\n",
      "Total Validation Loss: 1.799117, Acc: 26.4750\n",
      "Total Testing Acc: 25.6500\n",
      "16\n",
      "Avg Training Loss: 1.729524\n",
      "Total Validation Loss: 1.783079, Acc: 26.5625\n",
      "Total Testing Acc: 26.8000\n",
      "17\n",
      "Avg Training Loss: 1.708041\n",
      "Total Validation Loss: 1.769672, Acc: 26.9875\n",
      "Total Testing Acc: 27.7750\n",
      "18\n",
      "Avg Training Loss: 1.693215\n",
      "Total Validation Loss: 1.755934, Acc: 26.9875\n",
      "Total Testing Acc: 27.7375\n",
      "19\n",
      "Avg Training Loss: 1.673392\n",
      "Total Validation Loss: 1.764946, Acc: 27.6000\n",
      "Total Testing Acc: 27.8250\n",
      "20\n",
      "Avg Training Loss: 1.660362\n",
      "Total Validation Loss: 1.761402, Acc: 27.4750\n",
      "Total Testing Acc: 27.5125\n",
      "21\n",
      "Avg Training Loss: 1.642695\n",
      "Total Validation Loss: 1.769559, Acc: 27.7250\n",
      "Total Testing Acc: 27.9750\n",
      "22\n",
      "Avg Training Loss: 1.624842\n",
      "Total Validation Loss: 1.739200, Acc: 27.8625\n",
      "Total Testing Acc: 28.0875\n",
      "23\n",
      "Avg Training Loss: 1.604592\n",
      "Total Validation Loss: 1.767489, Acc: 27.9125\n",
      "Total Testing Acc: 27.7375\n",
      "24\n",
      "Avg Training Loss: 1.589002\n",
      "Total Validation Loss: 1.748765, Acc: 28.0125\n",
      "Total Testing Acc: 29.0000\n",
      "25\n",
      "Avg Training Loss: 1.570762\n",
      "Total Validation Loss: 1.741162, Acc: 28.0500\n",
      "Total Testing Acc: 28.9125\n",
      "26\n",
      "Avg Training Loss: 1.551739\n",
      "Total Validation Loss: 1.746344, Acc: 28.8125\n",
      "Total Testing Acc: 29.2125\n",
      "27\n",
      "Avg Training Loss: 1.534370\n",
      "Total Validation Loss: 1.748632, Acc: 28.7750\n",
      "Total Testing Acc: 28.6625\n",
      "28\n",
      "Avg Training Loss: 1.521381\n",
      "Total Validation Loss: 1.752852, Acc: 28.4125\n",
      "Total Testing Acc: 29.1375\n",
      "29\n",
      "Avg Training Loss: 1.503510\n",
      "Total Validation Loss: 1.768117, Acc: 28.7375\n",
      "Total Testing Acc: 28.6375\n",
      "30\n",
      "Avg Training Loss: 1.484888\n",
      "Total Validation Loss: 1.764821, Acc: 28.2000\n",
      "Total Testing Acc: 28.6125\n",
      "31\n",
      "Avg Training Loss: 1.470362\n",
      "Total Validation Loss: 1.817635, Acc: 28.7125\n",
      "Total Testing Acc: 29.1250\n",
      "32\n",
      "Avg Training Loss: 1.447443\n",
      "Total Validation Loss: 1.798021, Acc: 28.5250\n",
      "Total Testing Acc: 29.1500\n",
      "33\n",
      "Avg Training Loss: 1.439058\n",
      "Total Validation Loss: 1.759984, Acc: 29.1375\n",
      "Total Testing Acc: 29.2375\n",
      "34\n",
      "Avg Training Loss: 1.413140\n",
      "Total Validation Loss: 1.815605, Acc: 28.7750\n",
      "Total Testing Acc: 29.1875\n",
      "35\n",
      "Avg Training Loss: 1.401942\n",
      "Total Validation Loss: 1.789006, Acc: 29.1125\n",
      "Total Testing Acc: 29.1375\n",
      "36\n",
      "Avg Training Loss: 1.380799\n",
      "Total Validation Loss: 1.804424, Acc: 29.2000\n",
      "Total Testing Acc: 29.4875\n",
      "37\n",
      "Avg Training Loss: 1.365022\n",
      "Total Validation Loss: 1.815014, Acc: 29.3500\n",
      "Total Testing Acc: 28.8875\n",
      "38\n",
      "Avg Training Loss: 1.351704\n",
      "Total Validation Loss: 1.856015, Acc: 28.7000\n",
      "Total Testing Acc: 29.2250\n",
      "39\n",
      "Avg Training Loss: 1.338322\n",
      "Total Validation Loss: 1.824241, Acc: 28.5875\n",
      "Total Testing Acc: 29.6000\n",
      "40\n",
      "Avg Training Loss: 1.319235\n",
      "Total Validation Loss: 1.840096, Acc: 28.4375\n",
      "Total Testing Acc: 29.4750\n",
      "41\n",
      "Avg Training Loss: 1.301939\n",
      "Total Validation Loss: 1.875840, Acc: 29.0000\n",
      "Total Testing Acc: 28.8250\n",
      "42\n",
      "Avg Training Loss: 1.286572\n",
      "Total Validation Loss: 1.885887, Acc: 28.4500\n",
      "Total Testing Acc: 29.4125\n",
      "43\n",
      "Avg Training Loss: 1.273033\n",
      "Total Validation Loss: 1.880456, Acc: 28.4375\n",
      "Total Testing Acc: 29.2250\n",
      "44\n",
      "Avg Training Loss: 1.259298\n",
      "Total Validation Loss: 1.873400, Acc: 28.8625\n",
      "Total Testing Acc: 28.7375\n",
      "45\n",
      "Avg Training Loss: 1.241655\n",
      "Total Validation Loss: 1.937541, Acc: 28.1875\n",
      "Total Testing Acc: 28.8250\n",
      "46\n",
      "Avg Training Loss: 1.221938\n",
      "Total Validation Loss: 1.985985, Acc: 28.8375\n",
      "Total Testing Acc: 29.6500\n",
      "47\n",
      "Avg Training Loss: 1.210931\n",
      "Total Validation Loss: 1.956998, Acc: 27.7750\n",
      "Total Testing Acc: 28.0750\n",
      "48\n",
      "Avg Training Loss: 1.188218\n",
      "Total Validation Loss: 1.983174, Acc: 27.8000\n",
      "Total Testing Acc: 28.9375\n",
      "49\n",
      "Avg Training Loss: 1.176972\n",
      "Total Validation Loss: 1.986947, Acc: 28.4375\n",
      "Total Testing Acc: 29.2500\n",
      "50\n",
      "Avg Training Loss: 1.160286\n",
      "Total Validation Loss: 2.113766, Acc: 28.8500\n",
      "Total Testing Acc: 29.1500\n",
      "51\n",
      "Avg Training Loss: 1.157018\n",
      "Total Validation Loss: 1.975993, Acc: 28.2375\n",
      "Total Testing Acc: 28.9500\n",
      "52\n",
      "Avg Training Loss: 1.129797\n",
      "Total Validation Loss: 2.109136, Acc: 28.3875\n",
      "Total Testing Acc: 29.0250\n",
      "53\n",
      "Avg Training Loss: 1.118716\n",
      "Total Validation Loss: 2.066964, Acc: 28.3750\n",
      "Total Testing Acc: 29.4250\n",
      "54\n",
      "Avg Training Loss: 1.112496\n",
      "Total Validation Loss: 2.077118, Acc: 28.4250\n",
      "Total Testing Acc: 29.5125\n",
      "55\n",
      "Avg Training Loss: 1.094394\n",
      "Total Validation Loss: 2.103403, Acc: 27.9750\n",
      "Total Testing Acc: 29.5375\n",
      "56\n",
      "Avg Training Loss: 1.076552\n",
      "Total Validation Loss: 2.248373, Acc: 28.1125\n",
      "Total Testing Acc: 28.5875\n",
      "57\n",
      "Avg Training Loss: 1.068290\n",
      "Total Validation Loss: 2.189651, Acc: 28.6250\n",
      "Total Testing Acc: 29.2125\n",
      "58\n",
      "Avg Training Loss: 1.060418\n",
      "Total Validation Loss: 2.092413, Acc: 27.6375\n",
      "Total Testing Acc: 29.2375\n",
      "59\n",
      "Avg Training Loss: 1.039046\n",
      "Total Validation Loss: 2.089584, Acc: 28.8625\n",
      "Total Testing Acc: 29.1000\n",
      "60\n",
      "Avg Training Loss: 1.023645\n",
      "Total Validation Loss: 2.234751, Acc: 27.7750\n",
      "Total Testing Acc: 29.6125\n",
      "61\n",
      "Avg Training Loss: 1.025846\n",
      "Total Validation Loss: 2.324064, Acc: 28.1875\n",
      "Total Testing Acc: 29.4625\n",
      "62\n",
      "Avg Training Loss: 1.005475\n",
      "Total Validation Loss: 2.238032, Acc: 27.3375\n",
      "Total Testing Acc: 28.9000\n",
      "63\n",
      "Avg Training Loss: 0.991622\n",
      "Total Validation Loss: 2.347203, Acc: 27.7500\n",
      "Total Testing Acc: 29.2500\n",
      "64\n",
      "Avg Training Loss: 0.983100\n",
      "Total Validation Loss: 2.289382, Acc: 28.1375\n",
      "Total Testing Acc: 29.3250\n",
      "65\n",
      "Avg Training Loss: 0.968738\n",
      "Total Validation Loss: 2.219219, Acc: 27.6625\n",
      "Total Testing Acc: 29.3375\n",
      "66\n",
      "Avg Training Loss: 0.958743\n",
      "Total Validation Loss: 2.239764, Acc: 28.0750\n",
      "Total Testing Acc: 29.4000\n"
     ]
    },
    {
     "ename": "KeyboardInterrupt",
     "evalue": "",
     "output_type": "error",
     "traceback": [
      "\u001b[0;31m---------------------------------------------------------------------------\u001b[0m",
      "\u001b[0;31mKeyboardInterrupt\u001b[0m                         Traceback (most recent call last)",
      "Input \u001b[0;32mIn [16]\u001b[0m, in \u001b[0;36m<cell line: 8>\u001b[0;34m()\u001b[0m\n\u001b[1;32m      6\u001b[0m test_acc_lst \u001b[38;5;241m=\u001b[39m []\n\u001b[1;32m      8\u001b[0m \u001b[38;5;28;01mfor\u001b[39;00m epoch \u001b[38;5;129;01min\u001b[39;00m \u001b[38;5;28mrange\u001b[39m(\u001b[38;5;241m0\u001b[39m, args\u001b[38;5;241m.\u001b[39mepochs):\n\u001b[0;32m----> 9\u001b[0m     train_loss, train_acc \u001b[38;5;241m=\u001b[39m \u001b[43mtrain\u001b[49m\u001b[43m(\u001b[49m\u001b[43mepoch\u001b[49m\u001b[43m)\u001b[49m\n\u001b[1;32m     10\u001b[0m     val_loss, val_acc \u001b[38;5;241m=\u001b[39m validate(epoch)\n\u001b[1;32m     11\u001b[0m     test_acc \u001b[38;5;241m=\u001b[39m test(epoch)\n",
      "Input \u001b[0;32mIn [13]\u001b[0m, in \u001b[0;36mtrain\u001b[0;34m(epoch)\u001b[0m\n\u001b[1;32m     14\u001b[0m             meta_target \u001b[38;5;241m=\u001b[39m meta_target\u001b[38;5;241m.\u001b[39mcuda()\n\u001b[1;32m     15\u001b[0m \u001b[38;5;66;03m#             meta_structure = meta_structure.cuda()\u001b[39;00m\n\u001b[1;32m     16\u001b[0m \u001b[38;5;66;03m#             embedding = embedding.cuda()\u001b[39;00m\n\u001b[1;32m     17\u001b[0m \u001b[38;5;66;03m#             indicator = indicator.cuda()\u001b[39;00m\n\u001b[0;32m---> 18\u001b[0m         loss, acc \u001b[38;5;241m=\u001b[39m \u001b[43mmodel\u001b[49m\u001b[38;5;241;43m.\u001b[39;49m\u001b[43mtrain_\u001b[49m\u001b[43m(\u001b[49m\u001b[43mimage\u001b[49m\u001b[43m,\u001b[49m\u001b[43m \u001b[49m\u001b[43mtarget\u001b[49m\u001b[43m,\u001b[49m\u001b[43m \u001b[49m\u001b[43mmeta_target\u001b[49m\u001b[43m)\u001b[49m\n\u001b[1;32m     19\u001b[0m         \u001b[38;5;66;03m#print('Train: Epoch:{}, Batch:{}, Loss:{:.6f}, Acc:{:.4f}.'.format(epoch, batch_idx, loss, acc))\u001b[39;00m\n\u001b[1;32m     20\u001b[0m         loss_all \u001b[38;5;241m+\u001b[39m\u001b[38;5;241m=\u001b[39m loss\n",
      "File \u001b[0;32m~/RAVEN/src/Final_models/basic_model.py:24\u001b[0m, in \u001b[0;36mBasicModel.train_\u001b[0;34m(self, image, target, meta_target)\u001b[0m\n\u001b[1;32m     22\u001b[0m output \u001b[38;5;241m=\u001b[39m \u001b[38;5;28mself\u001b[39m(image)\n\u001b[1;32m     23\u001b[0m loss \u001b[38;5;241m=\u001b[39m \u001b[38;5;28mself\u001b[39m\u001b[38;5;241m.\u001b[39mcompute_loss(output, target, meta_target)\n\u001b[0;32m---> 24\u001b[0m \u001b[43mloss\u001b[49m\u001b[38;5;241;43m.\u001b[39;49m\u001b[43mbackward\u001b[49m\u001b[43m(\u001b[49m\u001b[43m)\u001b[49m\n\u001b[1;32m     25\u001b[0m \u001b[38;5;28mself\u001b[39m\u001b[38;5;241m.\u001b[39moptimizer\u001b[38;5;241m.\u001b[39mstep()\n\u001b[1;32m     26\u001b[0m pred \u001b[38;5;241m=\u001b[39m output[\u001b[38;5;241m0\u001b[39m]\u001b[38;5;241m.\u001b[39mdata\u001b[38;5;241m.\u001b[39mmax(\u001b[38;5;241m1\u001b[39m)[\u001b[38;5;241m1\u001b[39m]\n",
      "File \u001b[0;32m~/.conda/envs/gln_new/lib/python3.10/site-packages/torch/_tensor.py:363\u001b[0m, in \u001b[0;36mTensor.backward\u001b[0;34m(self, gradient, retain_graph, create_graph, inputs)\u001b[0m\n\u001b[1;32m    354\u001b[0m \u001b[38;5;28;01mif\u001b[39;00m has_torch_function_unary(\u001b[38;5;28mself\u001b[39m):\n\u001b[1;32m    355\u001b[0m     \u001b[38;5;28;01mreturn\u001b[39;00m handle_torch_function(\n\u001b[1;32m    356\u001b[0m         Tensor\u001b[38;5;241m.\u001b[39mbackward,\n\u001b[1;32m    357\u001b[0m         (\u001b[38;5;28mself\u001b[39m,),\n\u001b[0;32m   (...)\u001b[0m\n\u001b[1;32m    361\u001b[0m         create_graph\u001b[38;5;241m=\u001b[39mcreate_graph,\n\u001b[1;32m    362\u001b[0m         inputs\u001b[38;5;241m=\u001b[39minputs)\n\u001b[0;32m--> 363\u001b[0m \u001b[43mtorch\u001b[49m\u001b[38;5;241;43m.\u001b[39;49m\u001b[43mautograd\u001b[49m\u001b[38;5;241;43m.\u001b[39;49m\u001b[43mbackward\u001b[49m\u001b[43m(\u001b[49m\u001b[38;5;28;43mself\u001b[39;49m\u001b[43m,\u001b[49m\u001b[43m \u001b[49m\u001b[43mgradient\u001b[49m\u001b[43m,\u001b[49m\u001b[43m \u001b[49m\u001b[43mretain_graph\u001b[49m\u001b[43m,\u001b[49m\u001b[43m \u001b[49m\u001b[43mcreate_graph\u001b[49m\u001b[43m,\u001b[49m\u001b[43m \u001b[49m\u001b[43minputs\u001b[49m\u001b[38;5;241;43m=\u001b[39;49m\u001b[43minputs\u001b[49m\u001b[43m)\u001b[49m\n",
      "File \u001b[0;32m~/.conda/envs/gln_new/lib/python3.10/site-packages/torch/autograd/__init__.py:173\u001b[0m, in \u001b[0;36mbackward\u001b[0;34m(tensors, grad_tensors, retain_graph, create_graph, grad_variables, inputs)\u001b[0m\n\u001b[1;32m    168\u001b[0m     retain_graph \u001b[38;5;241m=\u001b[39m create_graph\n\u001b[1;32m    170\u001b[0m \u001b[38;5;66;03m# The reason we repeat same the comment below is that\u001b[39;00m\n\u001b[1;32m    171\u001b[0m \u001b[38;5;66;03m# some Python versions print out the first line of a multi-line function\u001b[39;00m\n\u001b[1;32m    172\u001b[0m \u001b[38;5;66;03m# calls in the traceback and some print out the last line\u001b[39;00m\n\u001b[0;32m--> 173\u001b[0m \u001b[43mVariable\u001b[49m\u001b[38;5;241;43m.\u001b[39;49m\u001b[43m_execution_engine\u001b[49m\u001b[38;5;241;43m.\u001b[39;49m\u001b[43mrun_backward\u001b[49m\u001b[43m(\u001b[49m\u001b[43m  \u001b[49m\u001b[38;5;66;43;03m# Calls into the C++ engine to run the backward pass\u001b[39;49;00m\n\u001b[1;32m    174\u001b[0m \u001b[43m    \u001b[49m\u001b[43mtensors\u001b[49m\u001b[43m,\u001b[49m\u001b[43m \u001b[49m\u001b[43mgrad_tensors_\u001b[49m\u001b[43m,\u001b[49m\u001b[43m \u001b[49m\u001b[43mretain_graph\u001b[49m\u001b[43m,\u001b[49m\u001b[43m \u001b[49m\u001b[43mcreate_graph\u001b[49m\u001b[43m,\u001b[49m\u001b[43m \u001b[49m\u001b[43minputs\u001b[49m\u001b[43m,\u001b[49m\n\u001b[1;32m    175\u001b[0m \u001b[43m    \u001b[49m\u001b[43mallow_unreachable\u001b[49m\u001b[38;5;241;43m=\u001b[39;49m\u001b[38;5;28;43;01mTrue\u001b[39;49;00m\u001b[43m,\u001b[49m\u001b[43m \u001b[49m\u001b[43maccumulate_grad\u001b[49m\u001b[38;5;241;43m=\u001b[39;49m\u001b[38;5;28;43;01mTrue\u001b[39;49;00m\u001b[43m)\u001b[49m\n",
      "\u001b[0;31mKeyboardInterrupt\u001b[0m: "
     ]
    }
   ],
   "source": [
    "epoch_lst = []\n",
    "train_loss_lst = []\n",
    "train_acc_lst = []\n",
    "val_loss_lst = []\n",
    "val_acc_lst = []\n",
    "test_acc_lst = []\n",
    "\n",
    "for epoch in range(0, args.epochs):\n",
    "    train_loss, train_acc = train(epoch)\n",
    "    val_loss, val_acc = validate(epoch)\n",
    "    test_acc = test(epoch)\n",
    "    epoch_lst.append(epoch)\n",
    "    train_loss_lst.append(train_loss)\n",
    "    train_acc_lst.append(train_acc)\n",
    "    val_loss_lst.append(val_loss)\n",
    "    val_acc_lst.append(val_acc)\n",
    "    test_acc_lst.append(test_acc)\n",
    "    model.save_model(args.save, epoch, val_acc, val_loss)\n",
    "    \n",
    "    "
   ]
  },
  {
   "cell_type": "code",
   "execution_count": 17,
   "id": "1981b43e-d016-4b3c-abf5-9aba977fbe99",
   "metadata": {},
   "outputs": [],
   "source": [
    "import pandas as pd\n",
    "import seaborn as sns"
   ]
  },
  {
   "cell_type": "code",
   "execution_count": 18,
   "id": "65fa1fb4-d13e-4ea4-8c95-d014d6d983a6",
   "metadata": {},
   "outputs": [],
   "source": [
    "training_stats = pd.DataFrame({'epoch':epoch_lst,\n",
    " 'training_loss':train_loss_lst,\n",
    " 'training_accuracy':train_acc_lst,\n",
    " 'validation_loss':val_loss_lst,\n",
    " 'validation_accuracy':val_acc_lst,\n",
    " 'test_accuracy':test_acc_lst\n",
    "})"
   ]
  },
  {
   "cell_type": "code",
   "execution_count": 19,
   "id": "e2d45854-ae30-46b6-aaed-dd29313f7294",
   "metadata": {},
   "outputs": [],
   "source": [
    "training_stats = training_stats.set_index('epoch')"
   ]
  },
  {
   "cell_type": "code",
   "execution_count": 20,
   "id": "a821e0c9-cb8c-40e1-93aa-c35de2a4cf62",
   "metadata": {},
   "outputs": [],
   "source": [
    "sns.set(rc = {'figure.figsize':(15,8)})"
   ]
  },
  {
   "cell_type": "code",
   "execution_count": 21,
   "id": "85bef803-a49a-4627-be6b-bfc15cd80fbb",
   "metadata": {},
   "outputs": [
    {
     "data": {
      "text/plain": [
       "<AxesSubplot:xlabel='epoch'>"
      ]
     },
     "execution_count": 21,
     "metadata": {},
     "output_type": "execute_result"
    },
    {
     "data": {
      "image/png": "[encoded data removed]",
      "text/plain": [
       "<Figure size 1080x576 with 1 Axes>"
      ]
     },
     "metadata": {},
     "output_type": "display_data"
    }
   ],
   "source": [
    "sns.lineplot(data=training_stats[['training_loss','validation_loss']])"
   ]
  },
  {
   "cell_type": "code",
   "execution_count": 22,
   "id": "fbb7daa0-4b66-41dc-bf12-d5d0d3ca932a",
   "metadata": {},
   "outputs": [
    {
     "data": {
      "text/plain": [
       "<AxesSubplot:xlabel='epoch'>"
      ]
     },
     "execution_count": 22,
     "metadata": {},
     "output_type": "execute_result"
    },
    {
     "data": {
      "image/png": "[encoded data removed]",
      "text/plain": [
       "<Figure size 1080x576 with 1 Axes>"
      ]
     },
     "metadata": {},
     "output_type": "display_data"
    }
   ],
   "source": [
    "sns.lineplot(data=training_stats[['training_accuracy','validation_accuracy','test_accuracy']])"
   ]
  },
  {
   "cell_type": "markdown",
   "id": "e0a0a2a2-7e33-404b-8564-10477d95834c",
   "metadata": {},
   "source": [
    "#### Checking Model performance on each configuration  "
   ]
  },
  {
   "cell_type": "code",
   "execution_count": 23,
   "id": "375fb8aa-50cd-4549-8ff1-4303f97277ff",
   "metadata": {},
   "outputs": [],
   "source": [
    "def validate():\n",
    "    model.eval()\n",
    "    val_loss = 0\n",
    "    accuracy = 0\n",
    "    epoch = 1\n",
    "    loss_all = 0.0\n",
    "    acc_all = 0.0\n",
    "    counter = 0\n",
    "    for batch_idx, (image, target, meta_target) in enumerate(validloader):\n",
    "        counter += 1\n",
    "#         print(counter)\n",
    "        if args.cuda:\n",
    "            image = image.cuda()\n",
    "            target = target.cuda()\n",
    "            meta_target = meta_target.cuda()\n",
    "#             meta_structure = meta_structure.cuda()\n",
    "        loss, acc = model.validate_(image, target, meta_target)\n",
    "#         print('Validate: Epoch:{}, Batch:{}, Loss:{:.6f}, Acc:{:.4f}.'.format(epoch, batch_idx, loss, acc)) \n",
    "        loss_all += loss\n",
    "        acc_all += acc\n",
    "#         print(counter)\n",
    "    if counter >0:\n",
    "        print(\"Total Validation Loss: {:.6f}, Acc: {:.4f}\".format(loss_all/float(counter), acc_all/float(counter)))\n",
    "    return  acc_all/float(counter)\n",
    "\n",
    "def test():\n",
    "    model.eval()\n",
    "    accuracy = 0\n",
    "    epoch = 1\n",
    "    acc_all = 0.0\n",
    "    counter = 0\n",
    "    for batch_idx, (image, target, meta_target) in enumerate(testloader):\n",
    "        counter += 1\n",
    "        if args.cuda:\n",
    "            image = image.cuda()\n",
    "            target = target.cuda()\n",
    "            meta_target = meta_target.cuda()\n",
    "#             meta_structure = meta_structure.cuda()\n",
    "#             embedding = embedding.cuda()\n",
    "#             indicator = indicator.cuda()\n",
    "        acc = model.test_(image, target, meta_target)\n",
    "        # print('Test: Epoch:{}, Batch:{}, Acc:{:.4f}.'.format(epoch, batch_idx, acc))  \n",
    "        acc_all += acc\n",
    "    if counter > 0:\n",
    "        print(\"Total Testing Acc: {:.4f}\".format(acc_all / float(counter)))\n",
    "    return acc_all/float(counter)"
   ]
  },
  {
   "cell_type": "code",
   "execution_count": 24,
   "id": "d0001510-7fa7-4a73-bef4-66cbe7966ab7",
   "metadata": {},
   "outputs": [
    {
     "name": "stdout",
     "output_type": "stream",
     "text": [
      "Total Validation Loss: 1.870235, Acc: 39.7817\n",
      "Total Testing Acc: 40.8234\n",
      "Total Validation Loss: 2.578911, Acc: 25.2976\n",
      "Total Testing Acc: 27.8274\n",
      "Total Validation Loss: 2.374107, Acc: 24.4048\n",
      "Total Testing Acc: 23.6607\n",
      "Total Validation Loss: 2.298009, Acc: 21.1310\n",
      "Total Testing Acc: 24.1567\n"
     ]
    }
   ],
   "source": [
    "config_lst = []\n",
    "config_val_acc_list = []\n",
    "config_test_acc_list = []\n",
    "for i in ['/center_single/','/distribute_four/','/in_distribute_four_out_center_single/', '/left_center_single_right_center_single/']:\n",
    "    valid_dt = dataset(data_path, \"val\", args.img_size, transform=transforms.Compose([ToTensor()]))\n",
    "    test_dt = dataset(data_path, \"test\", args.img_size, transform=transforms.Compose([ToTensor()]))\n",
    "    valid_dt.file_names = [x for x in valid_dt.file_names if i in x]\n",
    "    test_dt.file_names = [x for x in test_dt.file_names if i in x]\n",
    "    validloader = DataLoader(valid_dt, batch_size=args.batch_size, shuffle=False, num_workers=16)\n",
    "    testloader = DataLoader(test_dt, batch_size=args.batch_size, shuffle=False, num_workers=16)\n",
    "    config_lst.append(i[1:-1])\n",
    "    config_val_acc_list.append(validate())\n",
    "    config_test_acc_list.append(test())\n",
    "    \n",
    "    "
   ]
  },
  {
   "cell_type": "code",
   "execution_count": 26,
   "id": "934fcc54-31b9-462f-8623-63553a79de2d",
   "metadata": {},
   "outputs": [
    {
     "data": {
      "text/html": [
       "<div>\n",
       "<style scoped>\n",
       "    .dataframe tbody tr th:only-of-type {\n",
       "        vertical-align: middle;\n",
       "    }\n",
       "\n",
       "    .dataframe tbody tr th {\n",
       "        vertical-align: top;\n",
       "    }\n",
       "\n",
       "    .dataframe thead th {\n",
       "        text-align: right;\n",
       "    }\n",
       "</style>\n",
       "<table border=\"1\" class=\"dataframe\">\n",
       "  <thead>\n",
       "    <tr style=\"text-align: right;\">\n",
       "      <th></th>\n",
       "      <th>configaration</th>\n",
       "      <th>validation_accuracy</th>\n",
       "      <th>test_accuracy</th>\n",
       "    </tr>\n",
       "  </thead>\n",
       "  <tbody>\n",
       "    <tr>\n",
       "      <th>0</th>\n",
       "      <td>center_single</td>\n",
       "      <td>39.781746</td>\n",
       "      <td>40.823413</td>\n",
       "    </tr>\n",
       "    <tr>\n",
       "      <th>1</th>\n",
       "      <td>distribute_four</td>\n",
       "      <td>25.297619</td>\n",
       "      <td>27.827381</td>\n",
       "    </tr>\n",
       "    <tr>\n",
       "      <th>2</th>\n",
       "      <td>in_distribute_four_out_center_single</td>\n",
       "      <td>24.404762</td>\n",
       "      <td>23.660714</td>\n",
       "    </tr>\n",
       "    <tr>\n",
       "      <th>3</th>\n",
       "      <td>left_center_single_right_center_single</td>\n",
       "      <td>21.130952</td>\n",
       "      <td>24.156746</td>\n",
       "    </tr>\n",
       "  </tbody>\n",
       "</table>\n",
       "</div>"
      ],
      "text/plain": [
       "                            configaration  validation_accuracy  test_accuracy\n",
       "0                           center_single            39.781746      40.823413\n",
       "1                         distribute_four            25.297619      27.827381\n",
       "2    in_distribute_four_out_center_single            24.404762      23.660714\n",
       "3  left_center_single_right_center_single            21.130952      24.156746"
      ]
     },
     "execution_count": 26,
     "metadata": {},
     "output_type": "execute_result"
    }
   ],
   "source": [
    "pd.DataFrame({'configaration':config_lst,'validation_accuracy':config_val_acc_list, 'test_accuracy':config_test_acc_list})"
   ]
  },
  {
   "cell_type": "code",
   "execution_count": 27,
   "id": "a6314a35-6f47-4065-91bd-3f0d5f273ee7",
   "metadata": {},
   "outputs": [
    {
     "name": "stdout",
     "output_type": "stream",
     "text": [
      "/center_single/ 6000 2000 2000\n",
      "/distribute_four/ 6000 2000 2000\n",
      "/in_distribute_four_out_center_single/ 6000 2000 2000\n",
      "/left_center_single_right_center_single/ 6000 2000 2000\n"
     ]
    }
   ],
   "source": [
    "for i in ['/center_single/','/distribute_four/','/in_distribute_four_out_center_single/', '/left_center_single_right_center_single/']:\n",
    "    train_dt = dataset(data_path, \"train\", args.img_size, transform=transforms.Compose([ToTensor()]))\n",
    "    valid_dt = dataset(data_path, \"val\", args.img_size, transform=transforms.Compose([ToTensor()]))\n",
    "    test_dt = dataset(data_path, \"test\", args.img_size, transform=transforms.Compose([ToTensor()]))\n",
    "    train_dt.file_names = [x for x in train_dt.file_names if i in x]\n",
    "    valid_dt.file_names = [x for x in valid_dt.file_names if i in x]\n",
    "    test_dt.file_names = [x for x in test_dt.file_names if i in x]\n",
    "    print(i,len(set(train_dt.file_names)),len(set(valid_dt.file_names)),len(set(test_dt.file_names)))\n"
   ]
  },
  {
   "cell_type": "code",
   "execution_count": 28,
   "id": "809ca117-6ff6-4113-ad71-4fb0215a95a7",
   "metadata": {},
   "outputs": [
    {
     "data": {
      "text/html": [
       "<div>\n",
       "<style scoped>\n",
       "    .dataframe tbody tr th:only-of-type {\n",
       "        vertical-align: middle;\n",
       "    }\n",
       "\n",
       "    .dataframe tbody tr th {\n",
       "        vertical-align: top;\n",
       "    }\n",
       "\n",
       "    .dataframe thead th {\n",
       "        text-align: right;\n",
       "    }\n",
       "</style>\n",
       "<table border=\"1\" class=\"dataframe\">\n",
       "  <thead>\n",
       "    <tr style=\"text-align: right;\">\n",
       "      <th></th>\n",
       "      <th>training_loss</th>\n",
       "      <th>training_accuracy</th>\n",
       "      <th>validation_loss</th>\n",
       "      <th>validation_accuracy</th>\n",
       "      <th>test_accuracy</th>\n",
       "    </tr>\n",
       "    <tr>\n",
       "      <th>epoch</th>\n",
       "      <th></th>\n",
       "      <th></th>\n",
       "      <th></th>\n",
       "      <th></th>\n",
       "      <th></th>\n",
       "    </tr>\n",
       "  </thead>\n",
       "  <tbody>\n",
       "    <tr>\n",
       "      <th>66</th>\n",
       "      <td>0.958743</td>\n",
       "      <td>63.641667</td>\n",
       "      <td>2.239764</td>\n",
       "      <td>28.075</td>\n",
       "      <td>29.4</td>\n",
       "    </tr>\n",
       "  </tbody>\n",
       "</table>\n",
       "</div>"
      ],
      "text/plain": [
       "       training_loss  training_accuracy  validation_loss  validation_accuracy  \\\n",
       "epoch                                                                           \n",
       "66          0.958743          63.641667         2.239764               28.075   \n",
       "\n",
       "       test_accuracy  \n",
       "epoch                 \n",
       "66              29.4  "
      ]
     },
     "execution_count": 28,
     "metadata": {},
     "output_type": "execute_result"
    }
   ],
   "source": [
    "training_stats.tail(1)"
   ]
  },
  {
   "cell_type": "code",
   "execution_count": null,
   "id": "894ed5e3-a424-406f-a228-eae507fbfaea",
   "metadata": {},
   "outputs": [],
   "source": []
  },
  {
   "cell_type": "code",
   "execution_count": null,
   "id": "8dd618b8-7a5e-4050-a904-7a9f370e2503",
   "metadata": {},
   "outputs": [],
   "source": []
  },
  {
   "cell_type": "code",
   "execution_count": null,
   "id": "0de3b5dc-c4be-4b1c-b8eb-81150fa533a8",
   "metadata": {},
   "outputs": [],
   "source": []
  },
  {
   "cell_type": "code",
   "execution_count": 127,
   "id": "fb4701da-fd9e-43fb-abb3-03c786f4b09f",
   "metadata": {},
   "outputs": [],
   "source": [
    "import numpy as np"
   ]
  },
  {
   "cell_type": "code",
   "execution_count": 178,
   "id": "e26d7612-4da7-4e47-90f5-61eb892b9e90",
   "metadata": {},
   "outputs": [],
   "source": [
    "a = np.load('/common/users/pv217/iraven_data_ext/distribute_four/RAVEN_100_train.npz')"
   ]
  },
  {
   "cell_type": "code",
   "execution_count": 179,
   "id": "7f299066-e67d-434c-a190-30ec2767b999",
   "metadata": {},
   "outputs": [
    {
     "name": "stdout",
     "output_type": "stream",
     "text": [
      "target\n",
      "predict\n",
      "image\n",
      "meta_matrix\n",
      "meta_structure\n",
      "meta_target\n",
      "structure\n"
     ]
    }
   ],
   "source": [
    "for items in a:\n",
    "    print(items)"
   ]
  },
  {
   "cell_type": "code",
   "execution_count": 187,
   "id": "3460aa58-e764-43c7-af57-b579dd2ba714",
   "metadata": {},
   "outputs": [],
   "source": [
    "# a[\"meta_matrix\"]"
   ]
  },
  {
   "cell_type": "code",
   "execution_count": 181,
   "id": "bee392ea-2c69-452b-8d45-0bd613c12936",
   "metadata": {},
   "outputs": [
    {
     "data": {
      "text/plain": [
       "array(7)"
      ]
     },
     "execution_count": 181,
     "metadata": {},
     "output_type": "execute_result"
    }
   ],
   "source": [
    "a[\"target\"]"
   ]
  },
  {
   "cell_type": "code",
   "execution_count": 182,
   "id": "6d70fa3b-ff47-4f79-a01b-b5db39e8f10d",
   "metadata": {},
   "outputs": [
    {
     "data": {
      "text/plain": [
       "array([1, 0, 0, 0, 0, 0, 0, 0, 0, 0, 1, 0, 1, 0, 0, 0, 0, 0, 0, 0, 0],\n",
       "      dtype=uint8)"
      ]
     },
     "execution_count": 182,
     "metadata": {},
     "output_type": "execute_result"
    }
   ],
   "source": [
    "a[\"meta_structure\"]"
   ]
  },
  {
   "cell_type": "code",
   "execution_count": 183,
   "id": "e11b7e12-5dbe-498b-b69b-098fded0d52a",
   "metadata": {},
   "outputs": [
    {
     "data": {
      "text/plain": [
       "array([1, 1, 1, 0, 0, 1, 1, 1, 1], dtype=uint8)"
      ]
     },
     "execution_count": 183,
     "metadata": {},
     "output_type": "execute_result"
    }
   ],
   "source": [
    "a[\"meta_target\"]"
   ]
  },
  {
   "cell_type": "code",
   "execution_count": 184,
   "id": "1e70525e-2c6b-4f92-a322-a9d2b17bfc53",
   "metadata": {},
   "outputs": [
    {
     "data": {
      "text/plain": [
       "array(['Scene', 'Singleton', 'Grid', 'Distribute_Four', '/', '/', '/',\n",
       "       '/'], dtype='|S15')"
      ]
     },
     "execution_count": 184,
     "metadata": {},
     "output_type": "execute_result"
    }
   ],
   "source": [
    "a[\"structure\"]"
   ]
  },
  {
   "cell_type": "code",
   "execution_count": 185,
   "id": "086588ff-548a-4f21-aa50-c6e30ad68b03",
   "metadata": {},
   "outputs": [],
   "source": [
    "import matplotlib.pyplot as plt"
   ]
  },
  {
   "cell_type": "code",
   "execution_count": 29,
   "id": "21a03180-cc08-4887-9534-3f7cdf0217f4",
   "metadata": {},
   "outputs": [
    {
     "data": {
      "text/plain": [
       "CNN_Logical(\n",
       "  (conv): conv_module(\n",
       "    (conv1): Conv2d(1, 16, kernel_size=(3, 3), stride=(2, 2))\n",
       "    (batch_norm1): BatchNorm2d(16, eps=1e-05, momentum=0.1, affine=True, track_running_stats=True)\n",
       "    (relu1): ReLU()\n",
       "    (conv2): Conv2d(16, 16, kernel_size=(3, 3), stride=(2, 2))\n",
       "    (batch_norm2): BatchNorm2d(16, eps=1e-05, momentum=0.1, affine=True, track_running_stats=True)\n",
       "    (relu2): ReLU()\n",
       "    (conv3): Conv2d(16, 16, kernel_size=(3, 3), stride=(2, 2))\n",
       "    (batch_norm3): BatchNorm2d(16, eps=1e-05, momentum=0.1, affine=True, track_running_stats=True)\n",
       "    (relu3): ReLU()\n",
       "    (conv4): Conv2d(16, 16, kernel_size=(3, 3), stride=(2, 2))\n",
       "    (batch_norm4): BatchNorm2d(16, eps=1e-05, momentum=0.1, affine=True, track_running_stats=True)\n",
       "    (relu4): ReLU()\n",
       "  )\n",
       "  (softmax): Softmax(dim=1)\n",
       "  (not_layer_1): Linear(in_features=256, out_features=256, bias=True)\n",
       "  (not_layer_2): Linear(in_features=256, out_features=256, bias=True)\n",
       "  (and_layer_1): Linear(in_features=512, out_features=256, bias=True)\n",
       "  (and_layer_2): Linear(in_features=256, out_features=256, bias=True)\n",
       "  (dropout_layer_logic): Dropout(p=0.1, inplace=False)\n",
       "  (create_row_layer_1): Linear(in_features=768, out_features=256, bias=True)\n",
       "  (create_row_layer_2): Linear(in_features=256, out_features=256, bias=True)\n",
       "  (create_row_layer_dropout): Dropout(p=0.1, inplace=False)\n",
       ")"
      ]
     },
     "execution_count": 29,
     "metadata": {},
     "output_type": "execute_result"
    }
   ],
   "source": [
    "model"
   ]
  },
  {
   "cell_type": "code",
   "execution_count": null,
   "id": "3b7d2881-4ab7-4b76-b00a-04c258c16a9b",
   "metadata": {},
   "outputs": [],
   "source": []
  }
 ],
 "metadata": {
  "kernelspec": {
   "display_name": "gln_new",
   "language": "python",
   "name": "gln_new"
  },
  "language_info": {
   "codemirror_mode": {
    "name": "ipython",
    "version": 3
   },
   "file_extension": ".py",
   "mimetype": "text/x-python",
   "name": "python",
   "nbconvert_exporter": "python",
   "pygments_lexer": "ipython3",
   "version": "3.10.4"
  }
 },
 "nbformat": 4,
 "nbformat_minor": 5
}
